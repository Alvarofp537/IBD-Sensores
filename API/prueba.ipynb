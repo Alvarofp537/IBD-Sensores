{
 "cells": [
  {
   "cell_type": "code",
   "execution_count": 1,
   "metadata": {},
   "outputs": [
    {
     "name": "stdout",
     "output_type": "stream",
     "text": [
      "[\n",
      "  {\n",
      "    \"name\": \"Alice\",\n",
      "    \"age\": \"30\",\n",
      "    \"city\": \"New York\"\n",
      "  },\n",
      "  {\n",
      "    \"name\": \"Bob\",\n",
      "    \"age\": \"25\",\n",
      "    \"city\": \"Los Angeles\"\n",
      "  },\n",
      "  {\n",
      "    \"name\": \"Charlie\",\n",
      "    \"age\": \"35\",\n",
      "    \"city\": \"Chicago\"\n",
      "  }\n",
      "]\n"
     ]
    }
   ],
   "source": [
    "import csv\n",
    "import json\n",
    "\n",
    "# Ejemplo de contenido CSV\n",
    "csv_content = \"\"\"name,age,city\n",
    "Alice,30,New York\n",
    "Bob,25,Los Angeles\n",
    "Charlie,35,Chicago\"\"\"\n",
    "\n",
    "# Convertir CSV a JSON\n",
    "def csv_to_json(csv_string):\n",
    "    csv_reader = csv.DictReader(csv_string.splitlines())\n",
    "    json_data = json.dumps([row for row in csv_reader], indent=2)\n",
    "    return json_data\n",
    "\n",
    "# Prueba la función\n",
    "json_result = csv_to_json(csv_content)\n",
    "print(json_result)\n",
    "\n"
   ]
  },
  {
   "cell_type": "code",
   "execution_count": 3,
   "metadata": {},
   "outputs": [
    {
     "name": "stdout",
     "output_type": "stream",
     "text": [
      "[\n",
      "  {\n",
      "    \"timestamp\": \"1\",\n",
      "    \"temperature\": \"2\",\n",
      "    \"humidity\": \"3\",\n",
      "    \"air_quality\": \"4\"\n",
      "  }\n",
      "]\n"
     ]
    }
   ],
   "source": [
    "from flask import Flask, jsonify\n",
    "\n",
    "with open('temperatura.csv', 'w') as f:\n",
    "    # Create csv with header\n",
    "    f.write('timestamp,temperature,humidity,air_quality\\n')\n",
    "    f.write('1,2,3,4')\n",
    "\n",
    "with open('temperatura.csv', 'r') as f:\n",
    "    response = f.read()\n",
    "contenido = response\n",
    "json_data = csv_to_json(contenido)\n",
    "\n",
    "print(json_data)"
   ]
  },
  {
   "cell_type": "code",
   "execution_count": null,
   "metadata": {},
   "outputs": [
    {
     "name": "stdout",
     "output_type": "stream",
     "text": [
      "timestamp,temperature,humidity,air_quality\n",
      "\n"
     ]
    }
   ],
   "source": [
    "print(response)"
   ]
  },
  {
   "cell_type": "code",
   "execution_count": null,
   "metadata": {},
   "outputs": [],
   "source": []
  }
 ],
 "metadata": {
  "kernelspec": {
   "display_name": "Python 3",
   "language": "python",
   "name": "python3"
  },
  "language_info": {
   "codemirror_mode": {
    "name": "ipython",
    "version": 3
   },
   "file_extension": ".py",
   "mimetype": "text/x-python",
   "name": "python",
   "nbconvert_exporter": "python",
   "pygments_lexer": "ipython3",
   "version": "3.11.9"
  }
 },
 "nbformat": 4,
 "nbformat_minor": 2
}
