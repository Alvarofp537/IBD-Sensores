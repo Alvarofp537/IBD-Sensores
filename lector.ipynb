{
 "cells": [
  {
   "cell_type": "markdown",
   "metadata": {},
   "source": [
    "## Funciones para leer datos del API:"
   ]
  },
  {
   "cell_type": "code",
   "execution_count": null,
   "metadata": {},
   "outputs": [],
   "source": [
    "import pandas as pd\n",
    "from lector import get_datos"
   ]
  },
  {
   "cell_type": "code",
   "execution_count": 2,
   "metadata": {},
   "outputs": [],
   "source": [
    "a = {}\n",
    "for i in ['temperatura', 'consumo', 'ocupacion', 'seguridad']:\n",
    "    a[i] = get_datos(i)"
   ]
  },
  {
   "cell_type": "code",
   "execution_count": 3,
   "metadata": {},
   "outputs": [
    {
     "data": {
      "text/plain": [
       "id\n",
       "c7220ce2b945    6\n",
       "07befca19ad0    6\n",
       "f10c2188ebee    6\n",
       "728c3f7e8f62    5\n",
       "3540133f1748    5\n",
       "434ab0790d0a    5\n",
       "88aeea3dc9d3    5\n",
       "Name: count, dtype: int64"
      ]
     },
     "execution_count": 3,
     "metadata": {},
     "output_type": "execute_result"
    }
   ],
   "source": [
    "a['consumo'].index.value_counts()"
   ]
  },
  {
   "cell_type": "code",
   "execution_count": 4,
   "metadata": {},
   "outputs": [
    {
     "data": {
      "text/html": [
       "<div>\n",
       "<style scoped>\n",
       "    .dataframe tbody tr th:only-of-type {\n",
       "        vertical-align: middle;\n",
       "    }\n",
       "\n",
       "    .dataframe tbody tr th {\n",
       "        vertical-align: top;\n",
       "    }\n",
       "\n",
       "    .dataframe thead th {\n",
       "        text-align: right;\n",
       "    }\n",
       "</style>\n",
       "<table border=\"1\" class=\"dataframe\">\n",
       "  <thead>\n",
       "    <tr style=\"text-align: right;\">\n",
       "      <th></th>\n",
       "      <th>current</th>\n",
       "      <th>power_consumption</th>\n",
       "      <th>power_factor</th>\n",
       "      <th>timestamp</th>\n",
       "      <th>voltage</th>\n",
       "    </tr>\n",
       "    <tr>\n",
       "      <th>id</th>\n",
       "      <th></th>\n",
       "      <th></th>\n",
       "      <th></th>\n",
       "      <th></th>\n",
       "      <th></th>\n",
       "    </tr>\n",
       "  </thead>\n",
       "  <tbody>\n",
       "    <tr>\n",
       "      <th>c7220ce2b945</th>\n",
       "      <td>1.94</td>\n",
       "      <td>6.23</td>\n",
       "      <td>0.81</td>\n",
       "      <td>2025-03-07 10:54:17</td>\n",
       "      <td>231.63</td>\n",
       "    </tr>\n",
       "    <tr>\n",
       "      <th>07befca19ad0</th>\n",
       "      <td>12.71</td>\n",
       "      <td>5.7</td>\n",
       "      <td>0.62</td>\n",
       "      <td>2025-03-07 10:54:18</td>\n",
       "      <td>216.25</td>\n",
       "    </tr>\n",
       "    <tr>\n",
       "      <th>f10c2188ebee</th>\n",
       "      <td>4.28</td>\n",
       "      <td>9.88</td>\n",
       "      <td>0.63</td>\n",
       "      <td>2025-03-07 10:54:19</td>\n",
       "      <td>232.66</td>\n",
       "    </tr>\n",
       "    <tr>\n",
       "      <th>728c3f7e8f62</th>\n",
       "      <td>4.61</td>\n",
       "      <td>1.41</td>\n",
       "      <td>0.83</td>\n",
       "      <td>2025-03-07 10:54:21</td>\n",
       "      <td>223.01</td>\n",
       "    </tr>\n",
       "    <tr>\n",
       "      <th>3540133f1748</th>\n",
       "      <td>5.48</td>\n",
       "      <td>9.75</td>\n",
       "      <td>0.6</td>\n",
       "      <td>2025-03-07 10:54:21</td>\n",
       "      <td>237.69</td>\n",
       "    </tr>\n",
       "  </tbody>\n",
       "</table>\n",
       "</div>"
      ],
      "text/plain": [
       "             current power_consumption power_factor            timestamp  \\\n",
       "id                                                                         \n",
       "c7220ce2b945    1.94              6.23         0.81  2025-03-07 10:54:17   \n",
       "07befca19ad0   12.71               5.7         0.62  2025-03-07 10:54:18   \n",
       "f10c2188ebee    4.28              9.88         0.63  2025-03-07 10:54:19   \n",
       "728c3f7e8f62    4.61              1.41         0.83  2025-03-07 10:54:21   \n",
       "3540133f1748    5.48              9.75          0.6  2025-03-07 10:54:21   \n",
       "\n",
       "             voltage  \n",
       "id                    \n",
       "c7220ce2b945  231.63  \n",
       "07befca19ad0  216.25  \n",
       "f10c2188ebee  232.66  \n",
       "728c3f7e8f62  223.01  \n",
       "3540133f1748  237.69  "
      ]
     },
     "execution_count": 4,
     "metadata": {},
     "output_type": "execute_result"
    }
   ],
   "source": [
    "a['consumo'].head()"
   ]
  },
  {
   "cell_type": "code",
   "execution_count": null,
   "metadata": {},
   "outputs": [],
   "source": []
  }
 ],
 "metadata": {
  "kernelspec": {
   "display_name": "Python 3",
   "language": "python",
   "name": "python3"
  },
  "language_info": {
   "codemirror_mode": {
    "name": "ipython",
    "version": 3
   },
   "file_extension": ".py",
   "mimetype": "text/x-python",
   "name": "python",
   "nbconvert_exporter": "python",
   "pygments_lexer": "ipython3",
   "version": "3.11.9"
  }
 },
 "nbformat": 4,
 "nbformat_minor": 2
}
