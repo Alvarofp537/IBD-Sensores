{
 "cells": [
  {
   "cell_type": "markdown",
   "metadata": {},
   "source": [
    "## Funciones para leer datos del API:"
   ]
  },
  {
   "cell_type": "code",
   "execution_count": null,
   "metadata": {},
   "outputs": [],
   "source": [
    "# import requests\n",
    "# import pandas as pd\n",
    "\n",
    "# def comprobar(metrica):\n",
    "#     return metrica in ['temperatura', 'consumo', 'ocupacion', 'seguridad']\n",
    "\n",
    "# def get_df(metrica):\n",
    "#     if not comprobar(metrica):\n",
    "#         raise ValueError(\"Métrica no válida: ['temperatura', 'consumo', 'ocupacion', 'seguridad']\")\n",
    "#     data = requests.get(f'http://localhost:8080/{metrica}')\n",
    "#     df = pd.DataFrame(data.json())\n",
    "#     return df.set_index('id')\n",
    "\n",
    "from lector import get_datos"
   ]
  },
  {
   "cell_type": "code",
   "execution_count": null,
   "metadata": {},
   "outputs": [],
   "source": [
    "a = {}\n",
    "for i in ['temperatura', 'consumo', 'ocupacion', 'seguridad']:\n",
    "    a[i] = get_datos(i)"
   ]
  },
  {
   "cell_type": "code",
   "execution_count": 19,
   "metadata": {},
   "outputs": [
    {
     "data": {
      "text/plain": [
       "id\n",
       "f3293c6cb50e    195\n",
       "06477f31f288    195\n",
       "e5b829e2925d    195\n",
       "f13ee76b3201    194\n",
       "fc4c192fb2be    194\n",
       "479ddc1a6753    194\n",
       "e18755dbfd22    194\n",
       "Name: count, dtype: int64"
      ]
     },
     "execution_count": 19,
     "metadata": {},
     "output_type": "execute_result"
    }
   ],
   "source": [
    "a['consumo'].index.value_counts()"
   ]
  },
  {
   "cell_type": "code",
   "execution_count": 20,
   "metadata": {},
   "outputs": [
    {
     "data": {
      "text/html": [
       "<div>\n",
       "<style scoped>\n",
       "    .dataframe tbody tr th:only-of-type {\n",
       "        vertical-align: middle;\n",
       "    }\n",
       "\n",
       "    .dataframe tbody tr th {\n",
       "        vertical-align: top;\n",
       "    }\n",
       "\n",
       "    .dataframe thead th {\n",
       "        text-align: right;\n",
       "    }\n",
       "</style>\n",
       "<table border=\"1\" class=\"dataframe\">\n",
       "  <thead>\n",
       "    <tr style=\"text-align: right;\">\n",
       "      <th></th>\n",
       "      <th>current</th>\n",
       "      <th>power_consumption</th>\n",
       "      <th>power_factor</th>\n",
       "      <th>timestamp</th>\n",
       "      <th>voltage</th>\n",
       "    </tr>\n",
       "    <tr>\n",
       "      <th>id</th>\n",
       "      <th></th>\n",
       "      <th></th>\n",
       "      <th></th>\n",
       "      <th></th>\n",
       "      <th></th>\n",
       "    </tr>\n",
       "  </thead>\n",
       "  <tbody>\n",
       "    <tr>\n",
       "      <th>f3293c6cb50e</th>\n",
       "      <td>11.31</td>\n",
       "      <td>7.73</td>\n",
       "      <td>0.78</td>\n",
       "      <td>2025-03-07 10:17:54</td>\n",
       "      <td>226.36</td>\n",
       "    </tr>\n",
       "    <tr>\n",
       "      <th>06477f31f288</th>\n",
       "      <td>8.68</td>\n",
       "      <td>5.16</td>\n",
       "      <td>0.74</td>\n",
       "      <td>2025-03-07 10:17:55</td>\n",
       "      <td>235.11</td>\n",
       "    </tr>\n",
       "    <tr>\n",
       "      <th>e5b829e2925d</th>\n",
       "      <td>6.76</td>\n",
       "      <td>9.73</td>\n",
       "      <td>0.6</td>\n",
       "      <td>2025-03-07 10:17:56</td>\n",
       "      <td>213.77</td>\n",
       "    </tr>\n",
       "    <tr>\n",
       "      <th>f13ee76b3201</th>\n",
       "      <td>10.6</td>\n",
       "      <td>9.64</td>\n",
       "      <td>0.53</td>\n",
       "      <td>2025-03-07 10:17:57</td>\n",
       "      <td>230.51</td>\n",
       "    </tr>\n",
       "    <tr>\n",
       "      <th>fc4c192fb2be</th>\n",
       "      <td>6.6</td>\n",
       "      <td>2.92</td>\n",
       "      <td>0.89</td>\n",
       "      <td>2025-03-07 10:17:57</td>\n",
       "      <td>218.16</td>\n",
       "    </tr>\n",
       "  </tbody>\n",
       "</table>\n",
       "</div>"
      ],
      "text/plain": [
       "             current power_consumption power_factor            timestamp  \\\n",
       "id                                                                         \n",
       "f3293c6cb50e   11.31              7.73         0.78  2025-03-07 10:17:54   \n",
       "06477f31f288    8.68              5.16         0.74  2025-03-07 10:17:55   \n",
       "e5b829e2925d    6.76              9.73          0.6  2025-03-07 10:17:56   \n",
       "f13ee76b3201    10.6              9.64         0.53  2025-03-07 10:17:57   \n",
       "fc4c192fb2be     6.6              2.92         0.89  2025-03-07 10:17:57   \n",
       "\n",
       "             voltage  \n",
       "id                    \n",
       "f3293c6cb50e  226.36  \n",
       "06477f31f288  235.11  \n",
       "e5b829e2925d  213.77  \n",
       "f13ee76b3201  230.51  \n",
       "fc4c192fb2be  218.16  "
      ]
     },
     "execution_count": 20,
     "metadata": {},
     "output_type": "execute_result"
    }
   ],
   "source": [
    "a['consumo'].head()"
   ]
  },
  {
   "cell_type": "code",
   "execution_count": null,
   "metadata": {},
   "outputs": [],
   "source": []
  }
 ],
 "metadata": {
  "kernelspec": {
   "display_name": "Python 3",
   "language": "python",
   "name": "python3"
  },
  "language_info": {
   "codemirror_mode": {
    "name": "ipython",
    "version": 3
   },
   "file_extension": ".py",
   "mimetype": "text/x-python",
   "name": "python",
   "nbconvert_exporter": "python",
   "pygments_lexer": "ipython3",
   "version": "3.11.9"
  }
 },
 "nbformat": 4,
 "nbformat_minor": 2
}
