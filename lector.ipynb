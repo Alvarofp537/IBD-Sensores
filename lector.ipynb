{
 "cells": [
  {
   "cell_type": "markdown",
   "metadata": {},
   "source": [
    "## Funciones para leer datos del API:"
   ]
  },
  {
   "cell_type": "code",
   "execution_count": 5,
   "metadata": {},
   "outputs": [],
   "source": [
    "import pandas as pd\n",
    "from lector import get_datos"
   ]
  },
  {
   "cell_type": "code",
   "execution_count": 6,
   "metadata": {},
   "outputs": [],
   "source": [
    "a = {}\n",
    "for i in ['temperatura', 'consumo', 'ocupacion', 'seguridad']:\n",
    "    a[i] = get_datos(i)"
   ]
  },
  {
   "cell_type": "code",
   "execution_count": 3,
   "metadata": {},
   "outputs": [
    {
     "data": {
      "text/plain": [
       "id\n",
       "c7220ce2b945    6\n",
       "07befca19ad0    6\n",
       "f10c2188ebee    6\n",
       "728c3f7e8f62    5\n",
       "3540133f1748    5\n",
       "434ab0790d0a    5\n",
       "88aeea3dc9d3    5\n",
       "Name: count, dtype: int64"
      ]
     },
     "execution_count": 3,
     "metadata": {},
     "output_type": "execute_result"
    }
   ],
   "source": [
    "a['consumo'].index.value_counts()"
   ]
  },
  {
   "cell_type": "code",
   "execution_count": 8,
   "metadata": {},
   "outputs": [
    {
     "data": {
      "text/html": [
       "<div>\n",
       "<style scoped>\n",
       "    .dataframe tbody tr th:only-of-type {\n",
       "        vertical-align: middle;\n",
       "    }\n",
       "\n",
       "    .dataframe tbody tr th {\n",
       "        vertical-align: top;\n",
       "    }\n",
       "\n",
       "    .dataframe thead th {\n",
       "        text-align: right;\n",
       "    }\n",
       "</style>\n",
       "<table border=\"1\" class=\"dataframe\">\n",
       "  <thead>\n",
       "    <tr style=\"text-align: right;\">\n",
       "      <th></th>\n",
       "      <th>dwell_time</th>\n",
       "      <th>location</th>\n",
       "      <th>movement</th>\n",
       "      <th>occupancy</th>\n",
       "      <th>timestamp</th>\n",
       "    </tr>\n",
       "    <tr>\n",
       "      <th>id</th>\n",
       "      <th></th>\n",
       "      <th></th>\n",
       "      <th></th>\n",
       "      <th></th>\n",
       "      <th></th>\n",
       "    </tr>\n",
       "  </thead>\n",
       "  <tbody>\n",
       "    <tr>\n",
       "      <th>3d0ecea59d92</th>\n",
       "      <td>33</td>\n",
       "      <td>Zone-5</td>\n",
       "      <td>True</td>\n",
       "      <td>12</td>\n",
       "      <td>2025-03-07 11:23:31</td>\n",
       "    </tr>\n",
       "    <tr>\n",
       "      <th>2cb0398f3365</th>\n",
       "      <td>98</td>\n",
       "      <td>Zone-1</td>\n",
       "      <td>False</td>\n",
       "      <td>20</td>\n",
       "      <td>2025-03-07 11:23:32</td>\n",
       "    </tr>\n",
       "    <tr>\n",
       "      <th>10d162a718fa</th>\n",
       "      <td>79</td>\n",
       "      <td>Zone-4</td>\n",
       "      <td>True</td>\n",
       "      <td>2</td>\n",
       "      <td>2025-03-07 11:23:32</td>\n",
       "    </tr>\n",
       "    <tr>\n",
       "      <th>ddd6d38d554c</th>\n",
       "      <td>96</td>\n",
       "      <td>Zone-4</td>\n",
       "      <td>True</td>\n",
       "      <td>15</td>\n",
       "      <td>2025-03-07 11:23:33</td>\n",
       "    </tr>\n",
       "    <tr>\n",
       "      <th>8fa27e61620b</th>\n",
       "      <td>31</td>\n",
       "      <td>Zone-5</td>\n",
       "      <td>True</td>\n",
       "      <td>47</td>\n",
       "      <td>2025-03-07 11:23:33</td>\n",
       "    </tr>\n",
       "  </tbody>\n",
       "</table>\n",
       "</div>"
      ],
      "text/plain": [
       "             dwell_time location movement occupancy            timestamp\n",
       "id                                                                      \n",
       "3d0ecea59d92         33   Zone-5     True        12  2025-03-07 11:23:31\n",
       "2cb0398f3365         98   Zone-1    False        20  2025-03-07 11:23:32\n",
       "10d162a718fa         79   Zone-4     True         2  2025-03-07 11:23:32\n",
       "ddd6d38d554c         96   Zone-4     True        15  2025-03-07 11:23:33\n",
       "8fa27e61620b         31   Zone-5     True        47  2025-03-07 11:23:33"
      ]
     },
     "execution_count": 8,
     "metadata": {},
     "output_type": "execute_result"
    }
   ],
   "source": [
    "a['ocupacion'].head()"
   ]
  },
  {
   "cell_type": "code",
   "execution_count": null,
   "metadata": {},
   "outputs": [],
   "source": []
  }
 ],
 "metadata": {
  "kernelspec": {
   "display_name": "Python 3",
   "language": "python",
   "name": "python3"
  },
  "language_info": {
   "codemirror_mode": {
    "name": "ipython",
    "version": 3
   },
   "file_extension": ".py",
   "mimetype": "text/x-python",
   "name": "python",
   "nbconvert_exporter": "python",
   "pygments_lexer": "ipython3",
   "version": "3.11.9"
  }
 },
 "nbformat": 4,
 "nbformat_minor": 2
}
