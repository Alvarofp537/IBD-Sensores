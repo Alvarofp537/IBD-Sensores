{
 "cells": [
  {
   "cell_type": "markdown",
   "metadata": {},
   "source": [
    "## Funciones para leer datos del API:"
   ]
  },
  {
   "cell_type": "code",
   "execution_count": 21,
   "metadata": {},
   "outputs": [],
   "source": [
    "import pandas as pd\n",
    "from lector import get_datos"
   ]
  },
  {
   "cell_type": "code",
   "execution_count": 22,
   "metadata": {},
   "outputs": [],
   "source": [
    "a = {}\n",
    "for i in ['temperatura', 'consumo', 'ocupacion', 'seguridad']:\n",
    "    a[i] = get_datos(i)"
   ]
  },
  {
   "cell_type": "code",
   "execution_count": 23,
   "metadata": {},
   "outputs": [
    {
     "data": {
      "text/plain": [
       "id\n",
       "b0194809c015    5\n",
       "3093c98833d9    4\n",
       "e6d01d8a8023    4\n",
       "79726ea4dc16    4\n",
       "c01fecadd642    4\n",
       "23a48f7f420f    4\n",
       "Name: count, dtype: int64"
      ]
     },
     "execution_count": 23,
     "metadata": {},
     "output_type": "execute_result"
    }
   ],
   "source": [
    "a['ocupacion'].index.value_counts()"
   ]
  },
  {
   "cell_type": "code",
   "execution_count": 24,
   "metadata": {},
   "outputs": [
    {
     "data": {
      "text/html": [
       "<div>\n",
       "<style scoped>\n",
       "    .dataframe tbody tr th:only-of-type {\n",
       "        vertical-align: middle;\n",
       "    }\n",
       "\n",
       "    .dataframe tbody tr th {\n",
       "        vertical-align: top;\n",
       "    }\n",
       "\n",
       "    .dataframe thead th {\n",
       "        text-align: right;\n",
       "    }\n",
       "</style>\n",
       "<table border=\"1\" class=\"dataframe\">\n",
       "  <thead>\n",
       "    <tr style=\"text-align: right;\">\n",
       "      <th></th>\n",
       "      <th>dwell_time</th>\n",
       "      <th>location</th>\n",
       "      <th>movement</th>\n",
       "      <th>occupancy</th>\n",
       "      <th>timestamp</th>\n",
       "    </tr>\n",
       "    <tr>\n",
       "      <th>id</th>\n",
       "      <th></th>\n",
       "      <th></th>\n",
       "      <th></th>\n",
       "      <th></th>\n",
       "      <th></th>\n",
       "    </tr>\n",
       "  </thead>\n",
       "  <tbody>\n",
       "    <tr>\n",
       "      <th>b0194809c015</th>\n",
       "      <td>40</td>\n",
       "      <td>Zone-4</td>\n",
       "      <td>False</td>\n",
       "      <td>11</td>\n",
       "      <td>2025-03-07 13:09:49</td>\n",
       "    </tr>\n",
       "    <tr>\n",
       "      <th>3093c98833d9</th>\n",
       "      <td>17</td>\n",
       "      <td>Zone-3</td>\n",
       "      <td>False</td>\n",
       "      <td>30</td>\n",
       "      <td>2025-03-07 13:10:47</td>\n",
       "    </tr>\n",
       "    <tr>\n",
       "      <th>e6d01d8a8023</th>\n",
       "      <td>39</td>\n",
       "      <td>Zone-5</td>\n",
       "      <td>True</td>\n",
       "      <td>33</td>\n",
       "      <td>2025-03-07 13:10:47</td>\n",
       "    </tr>\n",
       "    <tr>\n",
       "      <th>79726ea4dc16</th>\n",
       "      <td>33</td>\n",
       "      <td>Zone-3</td>\n",
       "      <td>False</td>\n",
       "      <td>38</td>\n",
       "      <td>2025-03-07 13:10:48</td>\n",
       "    </tr>\n",
       "    <tr>\n",
       "      <th>c01fecadd642</th>\n",
       "      <td>25</td>\n",
       "      <td>Zone-5</td>\n",
       "      <td>True</td>\n",
       "      <td>26</td>\n",
       "      <td>2025-03-07 13:10:49</td>\n",
       "    </tr>\n",
       "  </tbody>\n",
       "</table>\n",
       "</div>"
      ],
      "text/plain": [
       "             dwell_time location movement occupancy            timestamp\n",
       "id                                                                      \n",
       "b0194809c015         40   Zone-4    False        11  2025-03-07 13:09:49\n",
       "3093c98833d9         17   Zone-3    False        30  2025-03-07 13:10:47\n",
       "e6d01d8a8023         39   Zone-5     True        33  2025-03-07 13:10:47\n",
       "79726ea4dc16         33   Zone-3    False        38  2025-03-07 13:10:48\n",
       "c01fecadd642         25   Zone-5     True        26  2025-03-07 13:10:49"
      ]
     },
     "execution_count": 24,
     "metadata": {},
     "output_type": "execute_result"
    }
   ],
   "source": [
    "a['ocupacion'].head()"
   ]
  },
  {
   "cell_type": "code",
   "execution_count": 25,
   "metadata": {},
   "outputs": [
    {
     "data": {
      "text/html": [
       "<div>\n",
       "<style scoped>\n",
       "    .dataframe tbody tr th:only-of-type {\n",
       "        vertical-align: middle;\n",
       "    }\n",
       "\n",
       "    .dataframe tbody tr th {\n",
       "        vertical-align: top;\n",
       "    }\n",
       "\n",
       "    .dataframe thead th {\n",
       "        text-align: right;\n",
       "    }\n",
       "</style>\n",
       "<table border=\"1\" class=\"dataframe\">\n",
       "  <thead>\n",
       "    <tr style=\"text-align: right;\">\n",
       "      <th></th>\n",
       "      <th>alert_level</th>\n",
       "      <th>alerts</th>\n",
       "      <th>status</th>\n",
       "      <th>timestamp</th>\n",
       "    </tr>\n",
       "    <tr>\n",
       "      <th>id</th>\n",
       "      <th></th>\n",
       "      <th></th>\n",
       "      <th></th>\n",
       "      <th></th>\n",
       "    </tr>\n",
       "  </thead>\n",
       "  <tbody>\n",
       "    <tr>\n",
       "      <th>4d3740098cdc</th>\n",
       "      <td>medium</td>\n",
       "      <td>motion detected</td>\n",
       "      <td>active</td>\n",
       "      <td>2025-03-07 13:11:47</td>\n",
       "    </tr>\n",
       "    <tr>\n",
       "      <th>49165833e3b7</th>\n",
       "      <td>medium</td>\n",
       "      <td>motion detected</td>\n",
       "      <td>inactive</td>\n",
       "      <td>2025-03-07 13:11:48</td>\n",
       "    </tr>\n",
       "    <tr>\n",
       "      <th>1ae627ca53a0</th>\n",
       "      <td>low</td>\n",
       "      <td>abandoned object</td>\n",
       "      <td>inactive</td>\n",
       "      <td>2025-03-07 13:11:48</td>\n",
       "    </tr>\n",
       "    <tr>\n",
       "      <th>4d3740098cdc</th>\n",
       "      <td>high</td>\n",
       "      <td>no alert</td>\n",
       "      <td>inactive</td>\n",
       "      <td>2025-03-07 13:13:47</td>\n",
       "    </tr>\n",
       "    <tr>\n",
       "      <th>49165833e3b7</th>\n",
       "      <td>high</td>\n",
       "      <td>motion detected</td>\n",
       "      <td>active</td>\n",
       "      <td>2025-03-07 13:13:48</td>\n",
       "    </tr>\n",
       "  </tbody>\n",
       "</table>\n",
       "</div>"
      ],
      "text/plain": [
       "             alert_level            alerts    status            timestamp\n",
       "id                                                                       \n",
       "4d3740098cdc      medium   motion detected    active  2025-03-07 13:11:47\n",
       "49165833e3b7      medium   motion detected  inactive  2025-03-07 13:11:48\n",
       "1ae627ca53a0         low  abandoned object  inactive  2025-03-07 13:11:48\n",
       "4d3740098cdc        high          no alert  inactive  2025-03-07 13:13:47\n",
       "49165833e3b7        high   motion detected    active  2025-03-07 13:13:48"
      ]
     },
     "execution_count": 25,
     "metadata": {},
     "output_type": "execute_result"
    }
   ],
   "source": [
    "a['seguridad'].head()"
   ]
  },
  {
   "cell_type": "code",
   "execution_count": 26,
   "metadata": {},
   "outputs": [
    {
     "data": {
      "text/html": [
       "<div>\n",
       "<style scoped>\n",
       "    .dataframe tbody tr th:only-of-type {\n",
       "        vertical-align: middle;\n",
       "    }\n",
       "\n",
       "    .dataframe tbody tr th {\n",
       "        vertical-align: top;\n",
       "    }\n",
       "\n",
       "    .dataframe thead th {\n",
       "        text-align: right;\n",
       "    }\n",
       "</style>\n",
       "<table border=\"1\" class=\"dataframe\">\n",
       "  <thead>\n",
       "    <tr style=\"text-align: right;\">\n",
       "      <th></th>\n",
       "      <th>air_quality</th>\n",
       "      <th>humidity</th>\n",
       "      <th>temperature</th>\n",
       "      <th>timestamp</th>\n",
       "    </tr>\n",
       "    <tr>\n",
       "      <th>id</th>\n",
       "      <th></th>\n",
       "      <th></th>\n",
       "      <th></th>\n",
       "      <th></th>\n",
       "    </tr>\n",
       "  </thead>\n",
       "  <tbody>\n",
       "    <tr>\n",
       "      <th>17922e51f0b0</th>\n",
       "      <td>low</td>\n",
       "      <td>65.79</td>\n",
       "      <td>30.08</td>\n",
       "      <td>2025-03-07 13:09:49</td>\n",
       "    </tr>\n",
       "    <tr>\n",
       "      <th>db3091894102</th>\n",
       "      <td>low</td>\n",
       "      <td>79.59</td>\n",
       "      <td>24.7</td>\n",
       "      <td>2025-03-07 13:10:17</td>\n",
       "    </tr>\n",
       "    <tr>\n",
       "      <th>f8da7611a923</th>\n",
       "      <td>low</td>\n",
       "      <td>52.53</td>\n",
       "      <td>30.65</td>\n",
       "      <td>2025-03-07 13:10:18</td>\n",
       "    </tr>\n",
       "    <tr>\n",
       "      <th>2830671d4ce4</th>\n",
       "      <td>medium</td>\n",
       "      <td>41.69</td>\n",
       "      <td>30.64</td>\n",
       "      <td>2025-03-07 13:10:18</td>\n",
       "    </tr>\n",
       "    <tr>\n",
       "      <th>17922e51f0b0</th>\n",
       "      <td>low</td>\n",
       "      <td>32.06</td>\n",
       "      <td>22.26</td>\n",
       "      <td>2025-03-07 13:10:19</td>\n",
       "    </tr>\n",
       "  </tbody>\n",
       "</table>\n",
       "</div>"
      ],
      "text/plain": [
       "             air_quality humidity temperature            timestamp\n",
       "id                                                                \n",
       "17922e51f0b0         low    65.79       30.08  2025-03-07 13:09:49\n",
       "db3091894102         low    79.59        24.7  2025-03-07 13:10:17\n",
       "f8da7611a923         low    52.53       30.65  2025-03-07 13:10:18\n",
       "2830671d4ce4      medium    41.69       30.64  2025-03-07 13:10:18\n",
       "17922e51f0b0         low    32.06       22.26  2025-03-07 13:10:19"
      ]
     },
     "execution_count": 26,
     "metadata": {},
     "output_type": "execute_result"
    }
   ],
   "source": [
    "a['temperatura'].head()"
   ]
  }
 ],
 "metadata": {
  "kernelspec": {
   "display_name": "Python 3",
   "language": "python",
   "name": "python3"
  },
  "language_info": {
   "codemirror_mode": {
    "name": "ipython",
    "version": 3
   },
   "file_extension": ".py",
   "mimetype": "text/x-python",
   "name": "python",
   "nbconvert_exporter": "python",
   "pygments_lexer": "ipython3",
   "version": "3.11.9"
  }
 },
 "nbformat": 4,
 "nbformat_minor": 2
}
