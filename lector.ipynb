{
 "cells": [
  {
   "cell_type": "markdown",
   "metadata": {},
   "source": [
    "## Funciones para leer datos del API:"
   ]
  },
  {
   "cell_type": "code",
   "execution_count": 9,
   "metadata": {},
   "outputs": [],
   "source": [
    "import pandas as pd\n",
    "from lector import get_datos"
   ]
  },
  {
   "cell_type": "code",
   "execution_count": 10,
   "metadata": {},
   "outputs": [],
   "source": [
    "a = {}\n",
    "for i in ['temperatura', 'consumo', 'ocupacion', 'seguridad']:\n",
    "    a[i] = get_datos(i)"
   ]
  },
  {
   "cell_type": "code",
   "execution_count": 11,
   "metadata": {},
   "outputs": [
    {
     "data": {
      "text/plain": [
       "id\n",
       "ee94b5b1485a    52\n",
       "ea1bf28d9aaa    52\n",
       "a1e885bf935a    51\n",
       "2c3d03fdaaf5    51\n",
       "dab0b47c6643    51\n",
       "3c9804620388    51\n",
       "d4fa2622b7da    51\n",
       "Name: count, dtype: int64"
      ]
     },
     "execution_count": 11,
     "metadata": {},
     "output_type": "execute_result"
    }
   ],
   "source": [
    "a['consumo'].index.value_counts()"
   ]
  },
  {
   "cell_type": "code",
   "execution_count": 12,
   "metadata": {},
   "outputs": [
    {
     "data": {
      "text/html": [
       "<div>\n",
       "<style scoped>\n",
       "    .dataframe tbody tr th:only-of-type {\n",
       "        vertical-align: middle;\n",
       "    }\n",
       "\n",
       "    .dataframe tbody tr th {\n",
       "        vertical-align: top;\n",
       "    }\n",
       "\n",
       "    .dataframe thead th {\n",
       "        text-align: right;\n",
       "    }\n",
       "</style>\n",
       "<table border=\"1\" class=\"dataframe\">\n",
       "  <thead>\n",
       "    <tr style=\"text-align: right;\">\n",
       "      <th></th>\n",
       "      <th>dwell_time</th>\n",
       "      <th>location</th>\n",
       "      <th>movement</th>\n",
       "      <th>occupancy</th>\n",
       "      <th>timestamp</th>\n",
       "    </tr>\n",
       "    <tr>\n",
       "      <th>id</th>\n",
       "      <th></th>\n",
       "      <th></th>\n",
       "      <th></th>\n",
       "      <th></th>\n",
       "      <th></th>\n",
       "    </tr>\n",
       "  </thead>\n",
       "  <tbody>\n",
       "    <tr>\n",
       "      <th>3d0ecea59d92</th>\n",
       "      <td>100</td>\n",
       "      <td>Zone-2</td>\n",
       "      <td>True</td>\n",
       "      <td>21</td>\n",
       "      <td>2025-03-07 11:52:31</td>\n",
       "    </tr>\n",
       "    <tr>\n",
       "      <th>2cb0398f3365</th>\n",
       "      <td>74</td>\n",
       "      <td>Zone-4</td>\n",
       "      <td>False</td>\n",
       "      <td>15</td>\n",
       "      <td>2025-03-07 11:52:31</td>\n",
       "    </tr>\n",
       "    <tr>\n",
       "      <th>10d162a718fa</th>\n",
       "      <td>107</td>\n",
       "      <td>Zone-4</td>\n",
       "      <td>False</td>\n",
       "      <td>50</td>\n",
       "      <td>2025-03-07 11:52:32</td>\n",
       "    </tr>\n",
       "    <tr>\n",
       "      <th>ddd6d38d554c</th>\n",
       "      <td>76</td>\n",
       "      <td>Zone-5</td>\n",
       "      <td>True</td>\n",
       "      <td>29</td>\n",
       "      <td>2025-03-07 11:52:32</td>\n",
       "    </tr>\n",
       "    <tr>\n",
       "      <th>8fa27e61620b</th>\n",
       "      <td>80</td>\n",
       "      <td>Zone-1</td>\n",
       "      <td>True</td>\n",
       "      <td>15</td>\n",
       "      <td>2025-03-07 11:52:33</td>\n",
       "    </tr>\n",
       "  </tbody>\n",
       "</table>\n",
       "</div>"
      ],
      "text/plain": [
       "             dwell_time location movement occupancy            timestamp\n",
       "id                                                                      \n",
       "3d0ecea59d92        100   Zone-2     True        21  2025-03-07 11:52:31\n",
       "2cb0398f3365         74   Zone-4    False        15  2025-03-07 11:52:31\n",
       "10d162a718fa        107   Zone-4    False        50  2025-03-07 11:52:32\n",
       "ddd6d38d554c         76   Zone-5     True        29  2025-03-07 11:52:32\n",
       "8fa27e61620b         80   Zone-1     True        15  2025-03-07 11:52:33"
      ]
     },
     "execution_count": 12,
     "metadata": {},
     "output_type": "execute_result"
    }
   ],
   "source": [
    "a['ocupacion'].head()"
   ]
  },
  {
   "cell_type": "code",
   "execution_count": null,
   "metadata": {},
   "outputs": [],
   "source": []
  }
 ],
 "metadata": {
  "kernelspec": {
   "display_name": "Python 3",
   "language": "python",
   "name": "python3"
  },
  "language_info": {
   "codemirror_mode": {
    "name": "ipython",
    "version": 3
   },
   "file_extension": ".py",
   "mimetype": "text/x-python",
   "name": "python",
   "nbconvert_exporter": "python",
   "pygments_lexer": "ipython3",
   "version": "3.11.9"
  }
 },
 "nbformat": 4,
 "nbformat_minor": 2
}
