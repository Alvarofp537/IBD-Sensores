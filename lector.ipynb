{
 "cells": [
  {
   "cell_type": "markdown",
   "metadata": {},
   "source": [
    "## Funciones para leer datos del API:"
   ]
  },
  {
   "cell_type": "code",
   "execution_count": 88,
   "metadata": {},
   "outputs": [],
   "source": [
    "import pandas as pd\n",
    "from lector import get_datos"
   ]
  },
  {
   "cell_type": "code",
   "execution_count": 89,
   "metadata": {},
   "outputs": [],
   "source": [
    "a = {}\n",
    "for i in ['temperatura', 'consumo', 'ocupacion', 'seguridad']:\n",
    "    a[i] = get_datos(i)"
   ]
  },
  {
   "cell_type": "code",
   "execution_count": 90,
   "metadata": {},
   "outputs": [
    {
     "data": {
      "text/plain": [
       "id\n",
       "0507b1d6113a    6\n",
       "8fddc40a2e63    6\n",
       "b9c65633af5c    6\n",
       "264db542663c    6\n",
       "413dcddfaab1    6\n",
       "8db7a28ba0e6    5\n",
       "Name: count, dtype: int64"
      ]
     },
     "execution_count": 90,
     "metadata": {},
     "output_type": "execute_result"
    }
   ],
   "source": [
    "a['ocupacion'].index.value_counts()"
   ]
  },
  {
   "cell_type": "code",
   "execution_count": 91,
   "metadata": {},
   "outputs": [
    {
     "data": {
      "text/html": [
       "<div>\n",
       "<style scoped>\n",
       "    .dataframe tbody tr th:only-of-type {\n",
       "        vertical-align: middle;\n",
       "    }\n",
       "\n",
       "    .dataframe tbody tr th {\n",
       "        vertical-align: top;\n",
       "    }\n",
       "\n",
       "    .dataframe thead th {\n",
       "        text-align: right;\n",
       "    }\n",
       "</style>\n",
       "<table border=\"1\" class=\"dataframe\">\n",
       "  <thead>\n",
       "    <tr style=\"text-align: right;\">\n",
       "      <th></th>\n",
       "      <th>dwell_time</th>\n",
       "      <th>location</th>\n",
       "      <th>movement</th>\n",
       "      <th>occupancy</th>\n",
       "      <th>timestamp</th>\n",
       "    </tr>\n",
       "    <tr>\n",
       "      <th>id</th>\n",
       "      <th></th>\n",
       "      <th></th>\n",
       "      <th></th>\n",
       "      <th></th>\n",
       "      <th></th>\n",
       "    </tr>\n",
       "  </thead>\n",
       "  <tbody>\n",
       "    <tr>\n",
       "      <th>0507b1d6113a</th>\n",
       "      <td>7</td>\n",
       "      <td>Zone-3</td>\n",
       "      <td>False</td>\n",
       "      <td>18</td>\n",
       "      <td>2025-03-07 15:42:47</td>\n",
       "    </tr>\n",
       "    <tr>\n",
       "      <th>8fddc40a2e63</th>\n",
       "      <td>38</td>\n",
       "      <td>Zone-4</td>\n",
       "      <td>False</td>\n",
       "      <td>5</td>\n",
       "      <td>2025-03-07 15:42:47</td>\n",
       "    </tr>\n",
       "    <tr>\n",
       "      <th>b9c65633af5c</th>\n",
       "      <td>35</td>\n",
       "      <td>Zone-4</td>\n",
       "      <td>True</td>\n",
       "      <td>24</td>\n",
       "      <td>2025-03-07 15:42:48</td>\n",
       "    </tr>\n",
       "    <tr>\n",
       "      <th>8db7a28ba0e6</th>\n",
       "      <td>10</td>\n",
       "      <td>Zone-3</td>\n",
       "      <td>False</td>\n",
       "      <td>31</td>\n",
       "      <td>2025-03-07 15:42:48</td>\n",
       "    </tr>\n",
       "    <tr>\n",
       "      <th>264db542663c</th>\n",
       "      <td>31</td>\n",
       "      <td>Zone-2</td>\n",
       "      <td>True</td>\n",
       "      <td>17</td>\n",
       "      <td>2025-03-07 15:42:48</td>\n",
       "    </tr>\n",
       "  </tbody>\n",
       "</table>\n",
       "</div>"
      ],
      "text/plain": [
       "             dwell_time location movement occupancy            timestamp\n",
       "id                                                                      \n",
       "0507b1d6113a          7   Zone-3    False        18  2025-03-07 15:42:47\n",
       "8fddc40a2e63         38   Zone-4    False         5  2025-03-07 15:42:47\n",
       "b9c65633af5c         35   Zone-4     True        24  2025-03-07 15:42:48\n",
       "8db7a28ba0e6         10   Zone-3    False        31  2025-03-07 15:42:48\n",
       "264db542663c         31   Zone-2     True        17  2025-03-07 15:42:48"
      ]
     },
     "execution_count": 91,
     "metadata": {},
     "output_type": "execute_result"
    }
   ],
   "source": [
    "a['ocupacion'].head()"
   ]
  },
  {
   "cell_type": "code",
   "execution_count": 92,
   "metadata": {},
   "outputs": [
    {
     "data": {
      "text/html": [
       "<div>\n",
       "<style scoped>\n",
       "    .dataframe tbody tr th:only-of-type {\n",
       "        vertical-align: middle;\n",
       "    }\n",
       "\n",
       "    .dataframe tbody tr th {\n",
       "        vertical-align: top;\n",
       "    }\n",
       "\n",
       "    .dataframe thead th {\n",
       "        text-align: right;\n",
       "    }\n",
       "</style>\n",
       "<table border=\"1\" class=\"dataframe\">\n",
       "  <thead>\n",
       "    <tr style=\"text-align: right;\">\n",
       "      <th></th>\n",
       "      <th>alert_level</th>\n",
       "      <th>alerts</th>\n",
       "      <th>status</th>\n",
       "      <th>timestamp</th>\n",
       "    </tr>\n",
       "    <tr>\n",
       "      <th>id</th>\n",
       "      <th></th>\n",
       "      <th></th>\n",
       "      <th></th>\n",
       "      <th></th>\n",
       "    </tr>\n",
       "  </thead>\n",
       "  <tbody>\n",
       "    <tr>\n",
       "      <th>ef82b0a6a6f7</th>\n",
       "      <td>low</td>\n",
       "      <td>no alert</td>\n",
       "      <td>inactive</td>\n",
       "      <td>2025-03-07 15:42:47</td>\n",
       "    </tr>\n",
       "    <tr>\n",
       "      <th>51cadd6beabe</th>\n",
       "      <td>high</td>\n",
       "      <td>no alert</td>\n",
       "      <td>inactive</td>\n",
       "      <td>2025-03-07 15:42:47</td>\n",
       "    </tr>\n",
       "    <tr>\n",
       "      <th>2aedb70c66f2</th>\n",
       "      <td>medium</td>\n",
       "      <td>no alert</td>\n",
       "      <td>inactive</td>\n",
       "      <td>2025-03-07 15:42:48</td>\n",
       "    </tr>\n",
       "    <tr>\n",
       "      <th>ef82b0a6a6f7</th>\n",
       "      <td>medium</td>\n",
       "      <td>abandoned object</td>\n",
       "      <td>active</td>\n",
       "      <td>2025-03-07 15:44:47</td>\n",
       "    </tr>\n",
       "    <tr>\n",
       "      <th>51cadd6beabe</th>\n",
       "      <td>medium</td>\n",
       "      <td>abandoned object</td>\n",
       "      <td>active</td>\n",
       "      <td>2025-03-07 15:44:47</td>\n",
       "    </tr>\n",
       "  </tbody>\n",
       "</table>\n",
       "</div>"
      ],
      "text/plain": [
       "             alert_level            alerts    status            timestamp\n",
       "id                                                                       \n",
       "ef82b0a6a6f7         low          no alert  inactive  2025-03-07 15:42:47\n",
       "51cadd6beabe        high          no alert  inactive  2025-03-07 15:42:47\n",
       "2aedb70c66f2      medium          no alert  inactive  2025-03-07 15:42:48\n",
       "ef82b0a6a6f7      medium  abandoned object    active  2025-03-07 15:44:47\n",
       "51cadd6beabe      medium  abandoned object    active  2025-03-07 15:44:47"
      ]
     },
     "execution_count": 92,
     "metadata": {},
     "output_type": "execute_result"
    }
   ],
   "source": [
    "a['seguridad'].head()"
   ]
  },
  {
   "cell_type": "code",
   "execution_count": 93,
   "metadata": {},
   "outputs": [
    {
     "data": {
      "text/html": [
       "<div>\n",
       "<style scoped>\n",
       "    .dataframe tbody tr th:only-of-type {\n",
       "        vertical-align: middle;\n",
       "    }\n",
       "\n",
       "    .dataframe tbody tr th {\n",
       "        vertical-align: top;\n",
       "    }\n",
       "\n",
       "    .dataframe thead th {\n",
       "        text-align: right;\n",
       "    }\n",
       "</style>\n",
       "<table border=\"1\" class=\"dataframe\">\n",
       "  <thead>\n",
       "    <tr style=\"text-align: right;\">\n",
       "      <th></th>\n",
       "      <th>air_quality</th>\n",
       "      <th>humidity</th>\n",
       "      <th>temperature</th>\n",
       "      <th>timestamp</th>\n",
       "    </tr>\n",
       "    <tr>\n",
       "      <th>id</th>\n",
       "      <th></th>\n",
       "      <th></th>\n",
       "      <th></th>\n",
       "      <th></th>\n",
       "    </tr>\n",
       "  </thead>\n",
       "  <tbody>\n",
       "    <tr>\n",
       "      <th>1418d916bc5a</th>\n",
       "      <td>medium</td>\n",
       "      <td>75.19</td>\n",
       "      <td>20.57</td>\n",
       "      <td>2025-03-07 15:42:47</td>\n",
       "    </tr>\n",
       "    <tr>\n",
       "      <th>0579f7a9d52b</th>\n",
       "      <td>medium</td>\n",
       "      <td>31.51</td>\n",
       "      <td>34.15</td>\n",
       "      <td>2025-03-07 15:42:47</td>\n",
       "    </tr>\n",
       "    <tr>\n",
       "      <th>ef1a3603b8f2</th>\n",
       "      <td>medium</td>\n",
       "      <td>79.11</td>\n",
       "      <td>17.62</td>\n",
       "      <td>2025-03-07 15:42:48</td>\n",
       "    </tr>\n",
       "    <tr>\n",
       "      <th>d16f51712daf</th>\n",
       "      <td>medium</td>\n",
       "      <td>55.3</td>\n",
       "      <td>34.52</td>\n",
       "      <td>2025-03-07 15:42:48</td>\n",
       "    </tr>\n",
       "    <tr>\n",
       "      <th>1418d916bc5a</th>\n",
       "      <td>low</td>\n",
       "      <td>59.76</td>\n",
       "      <td>18.54</td>\n",
       "      <td>2025-03-07 15:43:17</td>\n",
       "    </tr>\n",
       "  </tbody>\n",
       "</table>\n",
       "</div>"
      ],
      "text/plain": [
       "             air_quality humidity temperature            timestamp\n",
       "id                                                                \n",
       "1418d916bc5a      medium    75.19       20.57  2025-03-07 15:42:47\n",
       "0579f7a9d52b      medium    31.51       34.15  2025-03-07 15:42:47\n",
       "ef1a3603b8f2      medium    79.11       17.62  2025-03-07 15:42:48\n",
       "d16f51712daf      medium     55.3       34.52  2025-03-07 15:42:48\n",
       "1418d916bc5a         low    59.76       18.54  2025-03-07 15:43:17"
      ]
     },
     "execution_count": 93,
     "metadata": {},
     "output_type": "execute_result"
    }
   ],
   "source": [
    "a['temperatura'].head()"
   ]
  },
  {
   "cell_type": "code",
   "execution_count": 94,
   "metadata": {},
   "outputs": [
    {
     "data": {
      "text/html": [
       "<div>\n",
       "<style scoped>\n",
       "    .dataframe tbody tr th:only-of-type {\n",
       "        vertical-align: middle;\n",
       "    }\n",
       "\n",
       "    .dataframe tbody tr th {\n",
       "        vertical-align: top;\n",
       "    }\n",
       "\n",
       "    .dataframe thead th {\n",
       "        text-align: right;\n",
       "    }\n",
       "</style>\n",
       "<table border=\"1\" class=\"dataframe\">\n",
       "  <thead>\n",
       "    <tr style=\"text-align: right;\">\n",
       "      <th></th>\n",
       "      <th>current</th>\n",
       "      <th>power_consumption</th>\n",
       "      <th>power_factor</th>\n",
       "      <th>timestamp</th>\n",
       "      <th>voltage</th>\n",
       "    </tr>\n",
       "    <tr>\n",
       "      <th>id</th>\n",
       "      <th></th>\n",
       "      <th></th>\n",
       "      <th></th>\n",
       "      <th></th>\n",
       "      <th></th>\n",
       "    </tr>\n",
       "  </thead>\n",
       "  <tbody>\n",
       "    <tr>\n",
       "      <th>a5faff2e4fd8</th>\n",
       "      <td>1.13</td>\n",
       "      <td>9.08</td>\n",
       "      <td>0.81</td>\n",
       "      <td>2025-03-07 15:42:47</td>\n",
       "      <td>228.5</td>\n",
       "    </tr>\n",
       "    <tr>\n",
       "      <th>0d97dbb0cd66</th>\n",
       "      <td>7.81</td>\n",
       "      <td>3.28</td>\n",
       "      <td>0.94</td>\n",
       "      <td>2025-03-07 15:42:47</td>\n",
       "      <td>231.54</td>\n",
       "    </tr>\n",
       "    <tr>\n",
       "      <th>a0f928a166f3</th>\n",
       "      <td>2.38</td>\n",
       "      <td>8.72</td>\n",
       "      <td>0.56</td>\n",
       "      <td>2025-03-07 15:42:48</td>\n",
       "      <td>213.67</td>\n",
       "    </tr>\n",
       "    <tr>\n",
       "      <th>fddac9632190</th>\n",
       "      <td>11.79</td>\n",
       "      <td>2.81</td>\n",
       "      <td>0.7</td>\n",
       "      <td>2025-03-07 15:42:48</td>\n",
       "      <td>219.39</td>\n",
       "    </tr>\n",
       "    <tr>\n",
       "      <th>2cfeb252bfe1</th>\n",
       "      <td>12.09</td>\n",
       "      <td>3.27</td>\n",
       "      <td>0.58</td>\n",
       "      <td>2025-03-07 15:42:48</td>\n",
       "      <td>239.24</td>\n",
       "    </tr>\n",
       "  </tbody>\n",
       "</table>\n",
       "</div>"
      ],
      "text/plain": [
       "             current power_consumption power_factor            timestamp  \\\n",
       "id                                                                         \n",
       "a5faff2e4fd8    1.13              9.08         0.81  2025-03-07 15:42:47   \n",
       "0d97dbb0cd66    7.81              3.28         0.94  2025-03-07 15:42:47   \n",
       "a0f928a166f3    2.38              8.72         0.56  2025-03-07 15:42:48   \n",
       "fddac9632190   11.79              2.81          0.7  2025-03-07 15:42:48   \n",
       "2cfeb252bfe1   12.09              3.27         0.58  2025-03-07 15:42:48   \n",
       "\n",
       "             voltage  \n",
       "id                    \n",
       "a5faff2e4fd8   228.5  \n",
       "0d97dbb0cd66  231.54  \n",
       "a0f928a166f3  213.67  \n",
       "fddac9632190  219.39  \n",
       "2cfeb252bfe1  239.24  "
      ]
     },
     "execution_count": 94,
     "metadata": {},
     "output_type": "execute_result"
    }
   ],
   "source": [
    "a['consumo'].head()"
   ]
  },
  {
   "cell_type": "code",
   "execution_count": 95,
   "metadata": {},
   "outputs": [
    {
     "name": "stdout",
     "output_type": "stream",
     "text": [
      "temperatura : (47, 4)\n",
      "consumo : (469, 5)\n",
      "ocupacion : (35, 5)\n",
      "seguridad : (9, 4)\n"
     ]
    }
   ],
   "source": [
    "for i in a.keys():\n",
    "    print(i,':',a[i].shape)"
   ]
  },
  {
   "cell_type": "code",
   "execution_count": null,
   "metadata": {},
   "outputs": [],
   "source": []
  }
 ],
 "metadata": {
  "kernelspec": {
   "display_name": "python3.12",
   "language": "python",
   "name": "python3"
  },
  "language_info": {
   "codemirror_mode": {
    "name": "ipython",
    "version": 3
   },
   "file_extension": ".py",
   "mimetype": "text/x-python",
   "name": "python",
   "nbconvert_exporter": "python",
   "pygments_lexer": "ipython3",
   "version": "3.12.3"
  }
 },
 "nbformat": 4,
 "nbformat_minor": 2
}
