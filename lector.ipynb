{
 "cells": [
  {
   "cell_type": "markdown",
   "metadata": {},
   "source": [
    "## Funciones para leer datos del API:"
   ]
  },
  {
   "cell_type": "code",
   "execution_count": 17,
   "metadata": {},
   "outputs": [],
   "source": [
    "import requests\n",
    "import pandas as pd\n",
    "\n",
    "def comprobar(metrica):\n",
    "    return metrica in ['temperatura', 'consumo', 'ocupacion', 'seguridad']\n",
    "\n",
    "def get_df(metrica):\n",
    "    if not comprobar(metrica):\n",
    "        raise ValueError(\"Métrica no válida: ['temperatura', 'consumo', 'ocupacion', 'seguridad']\")\n",
    "    data = requests.get(f'http://localhost:8080/{metrica}')\n",
    "    return pd.DataFrame(data.json())"
   ]
  },
  {
   "cell_type": "code",
   "execution_count": 21,
   "metadata": {},
   "outputs": [],
   "source": [
    "a = {}\n",
    "for i in ['temperatura', 'consumo', 'ocupacion', 'seguridad']:\n",
    "    a[i] = get_df(i)"
   ]
  },
  {
   "cell_type": "code",
   "execution_count": 24,
   "metadata": {},
   "outputs": [
    {
     "data": {
      "text/plain": [
       "id\n",
       "f3293c6cb50e    124\n",
       "06477f31f288    124\n",
       "e5b829e2925d    124\n",
       "f13ee76b3201    124\n",
       "fc4c192fb2be    124\n",
       "479ddc1a6753    124\n",
       "e18755dbfd22    124\n",
       "Name: count, dtype: int64"
      ]
     },
     "execution_count": 24,
     "metadata": {},
     "output_type": "execute_result"
    }
   ],
   "source": [
    "a['consumo'].id.value_counts()"
   ]
  },
  {
   "cell_type": "code",
   "execution_count": null,
   "metadata": {},
   "outputs": [],
   "source": []
  }
 ],
 "metadata": {
  "kernelspec": {
   "display_name": "Python 3",
   "language": "python",
   "name": "python3"
  },
  "language_info": {
   "codemirror_mode": {
    "name": "ipython",
    "version": 3
   },
   "file_extension": ".py",
   "mimetype": "text/x-python",
   "name": "python",
   "nbconvert_exporter": "python",
   "pygments_lexer": "ipython3",
   "version": "3.11.9"
  }
 },
 "nbformat": 4,
 "nbformat_minor": 2
}
